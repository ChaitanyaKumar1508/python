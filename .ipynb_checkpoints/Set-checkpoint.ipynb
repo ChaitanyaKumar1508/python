{
 "cells": [
  {
   "cell_type": "markdown",
   "metadata": {},
   "source": [
    "# Set"
   ]
  },
  {
   "cell_type": "markdown",
   "metadata": {},
   "source": [
    "A set is a collection which is unordered and unindexed. Sets are written with curly brackets in python (similar to dict, but Dict is a key value pair)"
   ]
  },
  {
   "cell_type": "markdown",
   "metadata": {},
   "source": [
    "### Properties of Set :\n",
    "\n",
    "- unordered collection of unique elements \n",
    "- No duplicates \n",
    "- unhashble type set\n",
    "- it is not indexed \n",
    "- we can iterate and access the values "
   ]
  },
  {
   "cell_type": "code",
   "execution_count": 1,
   "metadata": {},
   "outputs": [
    {
     "name": "stdout",
     "output_type": "stream",
     "text": [
      "<class 'dict'>\n"
     ]
    }
   ],
   "source": [
    "new_set = {}\n",
    "print(type(new_set))"
   ]
  },
  {
   "cell_type": "code",
   "execution_count": 2,
   "metadata": {},
   "outputs": [
    {
     "name": "stdout",
     "output_type": "stream",
     "text": [
      "<class 'set'>\n"
     ]
    }
   ],
   "source": [
    "new_set = {1,2,3,4,5}\n",
    "print(type(new_set))"
   ]
  },
  {
   "cell_type": "code",
   "execution_count": 3,
   "metadata": {},
   "outputs": [
    {
     "name": "stdout",
     "output_type": "stream",
     "text": [
      "{33, 99, 11, 44, 22, 88}\n"
     ]
    }
   ],
   "source": [
    "new_set = {88,99,11,22,33,44}\n",
    "print(new_set)"
   ]
  },
  {
   "cell_type": "markdown",
   "metadata": {},
   "source": [
    "Observation :\n",
    "- The output is not in the order we initialized "
   ]
  },
  {
   "cell_type": "code",
   "execution_count": null,
   "metadata": {},
   "outputs": [],
   "source": []
  },
  {
   "cell_type": "code",
   "execution_count": 5,
   "metadata": {},
   "outputs": [
    {
     "ename": "TypeError",
     "evalue": "'set' object is not subscriptable",
     "output_type": "error",
     "traceback": [
      "\u001b[0;31m---------------------------------------------------------------------------\u001b[0m",
      "\u001b[0;31mTypeError\u001b[0m                                 Traceback (most recent call last)",
      "\u001b[0;32m<ipython-input-5-4f203160095b>\u001b[0m in \u001b[0;36m<module>\u001b[0;34m\u001b[0m\n\u001b[1;32m      1\u001b[0m \u001b[0mnew_set\u001b[0m \u001b[0;34m=\u001b[0m \u001b[0;34m{\u001b[0m\u001b[0;36m4\u001b[0m\u001b[0;34m,\u001b[0m\u001b[0;36m5\u001b[0m\u001b[0;34m,\u001b[0m\u001b[0;36m6\u001b[0m\u001b[0;34m,\u001b[0m\u001b[0;36m3\u001b[0m\u001b[0;34m,\u001b[0m\u001b[0;36m2\u001b[0m\u001b[0;34m,\u001b[0m\u001b[0;36m13\u001b[0m\u001b[0;34m,\u001b[0m\u001b[0;36m14\u001b[0m\u001b[0;34m,\u001b[0m\u001b[0;36m1\u001b[0m\u001b[0;34m,\u001b[0m\u001b[0;36m8\u001b[0m\u001b[0;34m,\u001b[0m\u001b[0;36m33\u001b[0m\u001b[0;34m,\u001b[0m\u001b[0;36m55\u001b[0m\u001b[0;34m,\u001b[0m\u001b[0;36m9\u001b[0m\u001b[0;34m,\u001b[0m\u001b[0;36m11\u001b[0m\u001b[0;34m,\u001b[0m\u001b[0;36m10\u001b[0m\u001b[0;34m}\u001b[0m\u001b[0;34m\u001b[0m\u001b[0;34m\u001b[0m\u001b[0m\n\u001b[1;32m      2\u001b[0m \u001b[0;31m#print(hash(new_set))\u001b[0m\u001b[0;34m\u001b[0m\u001b[0;34m\u001b[0m\u001b[0;34m\u001b[0m\u001b[0m\n\u001b[0;32m----> 3\u001b[0;31m \u001b[0mprint\u001b[0m\u001b[0;34m(\u001b[0m\u001b[0mnew_set\u001b[0m\u001b[0;34m[\u001b[0m\u001b[0;36m1\u001b[0m\u001b[0;34m]\u001b[0m\u001b[0;34m)\u001b[0m\u001b[0;34m\u001b[0m\u001b[0;34m\u001b[0m\u001b[0m\n\u001b[0m",
      "\u001b[0;31mTypeError\u001b[0m: 'set' object is not subscriptable"
     ]
    }
   ],
   "source": [
    "# Is Set non-hashable ? => Can set be modified/mutable ?\n",
    "\n",
    "new_set = {4,5,6,3,2,13,14,1,8,33,55,9,11,10}\n",
    "#print(hash(new_set))\n",
    "print(new_set[1])"
   ]
  },
  {
   "cell_type": "markdown",
   "metadata": {},
   "source": [
    "Observation :\n",
    "- Sets are neither hashable nor can be accessed by index"
   ]
  },
  {
   "cell_type": "code",
   "execution_count": null,
   "metadata": {},
   "outputs": [],
   "source": []
  },
  {
   "cell_type": "code",
   "execution_count": 6,
   "metadata": {},
   "outputs": [
    {
     "name": "stdout",
     "output_type": "stream",
     "text": [
      "1\n",
      "2\n",
      "3\n",
      "4\n",
      "5\n",
      "6\n",
      "33\n",
      "8\n",
      "9\n",
      "10\n",
      "11\n",
      "13\n",
      "14\n",
      "55\n"
     ]
    }
   ],
   "source": [
    "# Accessing the Set elements through Loop\n",
    "\n",
    "new_set = {4,5,6,3,2,13,14,1,8,33,55,9,11,10}\n",
    "for elem in new_set:\n",
    "    print(elem)"
   ]
  },
  {
   "cell_type": "code",
   "execution_count": null,
   "metadata": {},
   "outputs": [],
   "source": []
  },
  {
   "cell_type": "code",
   "execution_count": 7,
   "metadata": {},
   "outputs": [
    {
     "name": "stdout",
     "output_type": "stream",
     "text": [
      "{1, 2, 5, 'z', 'a', 'v'}\n"
     ]
    }
   ],
   "source": [
    "# Can Set have different data types ?\n",
    "\n",
    "new_set = {1,2,\"a\",\"z\",\"v\",5}\n",
    "print(new_set)"
   ]
  },
  {
   "cell_type": "markdown",
   "metadata": {},
   "source": [
    "Observation :\n",
    "- Set can be heterogeneous "
   ]
  },
  {
   "cell_type": "code",
   "execution_count": null,
   "metadata": {},
   "outputs": [],
   "source": []
  },
  {
   "cell_type": "markdown",
   "metadata": {},
   "source": [
    "###  Set operations"
   ]
  },
  {
   "cell_type": "code",
   "execution_count": 9,
   "metadata": {},
   "outputs": [
    {
     "name": "stdout",
     "output_type": "stream",
     "text": [
      "Union : {1, 2, 3, 4, 5, 6}\n",
      "Intersection : {3, 4}\n"
     ]
    }
   ],
   "source": [
    "# Union and Intersection of Sets\n",
    "\n",
    "set_a = set([1,2,3,4]) \n",
    "set_b = set([3,4,5,6])\n",
    "print(\"Union :\",set_a | set_b)  #union\n",
    "print(\"Intersection :\",set_a & set_b)  #intersection "
   ]
  },
  {
   "cell_type": "code",
   "execution_count": 11,
   "metadata": {},
   "outputs": [
    {
     "name": "stdout",
     "output_type": "stream",
     "text": [
      "Is set_b a sub-set of set_a : True\n"
     ]
    }
   ],
   "source": [
    "# Whether a Set is subset of another set or not\n",
    "\n",
    "set_a = {1,2,3,4,5}\n",
    "set_b = {4,5}\n",
    "print(\"Is set_b a sub-set of set_a :\",set_b<set_a) #subset"
   ]
  },
  {
   "cell_type": "code",
   "execution_count": 13,
   "metadata": {},
   "outputs": [
    {
     "name": "stdout",
     "output_type": "stream",
     "text": [
      "Elemets present in set_a which are not in set_b : {1, 2, 3}\n"
     ]
    }
   ],
   "source": [
    "# Difference between 2 sets : Elements present in first set which are not present in second set \n",
    "\n",
    "set_a = {1,2,3,4,5}\n",
    "set_b = {4,5}\n",
    "print(\"Elemets present in set_a which are not in set_b :\",set_a-set_b) #difference"
   ]
  },
  {
   "cell_type": "code",
   "execution_count": 17,
   "metadata": {},
   "outputs": [
    {
     "name": "stdout",
     "output_type": "stream",
     "text": [
      "Elements which are not common in the sets\n",
      "*********************************************\n",
      "{1, 2, 3, 7, 8}\n",
      "{1, 2, 3, 7, 8}\n",
      "{1, 2, 3, 7, 8}\n"
     ]
    }
   ],
   "source": [
    "# Different ways to find all the elements which are not common in the sets\n",
    "\n",
    "set_a = {1,2,3,4,5}\n",
    "set_b = {4,5,7,8}\n",
    "print(\"Elements which are not common in the sets\")\n",
    "print(\"*\"*45)\n",
    "print((set_a-set_b)|(set_b-set_a))\n",
    "print(set_a^set_b)\n",
    "print((set_a|set_b)-(set_a&set_b))"
   ]
  },
  {
   "cell_type": "code",
   "execution_count": null,
   "metadata": {},
   "outputs": [],
   "source": []
  },
  {
   "cell_type": "markdown",
   "metadata": {},
   "source": [
    "### Set operations - through functions"
   ]
  },
  {
   "cell_type": "code",
   "execution_count": 19,
   "metadata": {},
   "outputs": [
    {
     "name": "stdout",
     "output_type": "stream",
     "text": [
      "Union : {1, 2, 3, 4, 5, 7, 8}\n"
     ]
    }
   ],
   "source": [
    "# Union \n",
    "\n",
    "set_a = {1,2,3,4,5}\n",
    "set_b = {4,5,7,8}\n",
    "print(\"Union :\",set_a.union(set_b))"
   ]
  },
  {
   "cell_type": "code",
   "execution_count": 21,
   "metadata": {},
   "outputs": [
    {
     "name": "stdout",
     "output_type": "stream",
     "text": [
      "Intersection : {4, 5}\n"
     ]
    }
   ],
   "source": [
    "# Intersection \n",
    "\n",
    "set_a = {1,2,3,4,5}\n",
    "set_b = {4,5,7,8}\n",
    "print(\"Intersection :\",set_a.intersection(set_b))"
   ]
  },
  {
   "cell_type": "code",
   "execution_count": 24,
   "metadata": {},
   "outputs": [
    {
     "name": "stdout",
     "output_type": "stream",
     "text": [
      "Elemets present in set_a which are not in set_b : {1, 2, 3}\n"
     ]
    }
   ],
   "source": [
    "# Difference between 2 sets : Elements present in first set which are not present in second set \n",
    "\n",
    "set_a = {1,2,3,4,5}\n",
    "set_b = {4,5,7,8}\n",
    "print(\"Elemets present in set_a which are not in set_b :\",set_a.difference(set_b))"
   ]
  },
  {
   "cell_type": "code",
   "execution_count": 27,
   "metadata": {},
   "outputs": [
    {
     "name": "stdout",
     "output_type": "stream",
     "text": [
      "Elements which are not common in the sets : {1, 2, 3, 7, 8}\n"
     ]
    }
   ],
   "source": [
    "# find all the elements which are not common in the sets\n",
    "\n",
    "set_a = {1,2,3,4,5}\n",
    "set_b = {4,5,7,8}\n",
    "print(\"Elements which are not common in the sets :\",set_a.symmetric_difference(set_b))"
   ]
  },
  {
   "cell_type": "code",
   "execution_count": 29,
   "metadata": {},
   "outputs": [
    {
     "name": "stdout",
     "output_type": "stream",
     "text": [
      "Is set_a a SUPERSET of set_b : True\n"
     ]
    }
   ],
   "source": [
    "# Whether a Set is subset of another set or not\n",
    "\n",
    "set_a = {1,2,3,4,5}\n",
    "set_b = {4,5}\n",
    "print(\"Is set_a a SUPERSET of set_b :\",set_a.issuperset(set_a))"
   ]
  },
  {
   "cell_type": "code",
   "execution_count": 30,
   "metadata": {},
   "outputs": [
    {
     "name": "stdout",
     "output_type": "stream",
     "text": [
      "{1, 2, 3, 4, 5}\n"
     ]
    }
   ],
   "source": [
    "# Create a copy of Set\n",
    "\n",
    "set_a = {1,2,3,4,5}\n",
    "set_b = set_a.copy()\n",
    "print(set_b)"
   ]
  },
  {
   "cell_type": "code",
   "execution_count": 47,
   "metadata": {},
   "outputs": [
    {
     "name": "stdout",
     "output_type": "stream",
     "text": [
      "Before discard :  {1, 2, 3, 4, 5}\n",
      "After discard :  {1, 3, 4, 5}\n"
     ]
    }
   ],
   "source": [
    "# Delete a specific element from the Set :: discard\n",
    "\n",
    "set_a = {1,2,3,4,5}\n",
    "print(\"Before discard : \", set_a)\n",
    "set_a.discard(2)\n",
    "print(\"After discard : \", set_a)"
   ]
  },
  {
   "cell_type": "code",
   "execution_count": 44,
   "metadata": {},
   "outputs": [
    {
     "name": "stdout",
     "output_type": "stream",
     "text": [
      "{200, 300, 400, 500}\n"
     ]
    }
   ],
   "source": [
    "# pop an element from set : sets are unordered, so we will never know which item gets removed\n",
    "\n",
    "set_a = {100,200,300,400,500}\n",
    "set_a.pop()\n",
    "print(set_a)"
   ]
  },
  {
   "cell_type": "code",
   "execution_count": 48,
   "metadata": {},
   "outputs": [
    {
     "name": "stdout",
     "output_type": "stream",
     "text": [
      "Before delete :  {1, 2, 3, 4, 5}\n",
      "After delete :  {1, 2, 3, 5}\n"
     ]
    }
   ],
   "source": [
    "# Delete a specific element from the Set :: remove\n",
    "\n",
    "set_a = {1,2,3,4,5}\n",
    "print(\"Before delete : \", set_a)\n",
    "set_a.remove(4)\n",
    "print(\"After delete : \", set_a)"
   ]
  },
  {
   "cell_type": "code",
   "execution_count": 49,
   "metadata": {},
   "outputs": [
    {
     "name": "stdout",
     "output_type": "stream",
     "text": [
      "Before clear : {1, 2, 3, 4, 5}\n",
      "After clear : set()\n"
     ]
    }
   ],
   "source": [
    "# Clear the Set :: remove all the elements from the Set\n",
    "\n",
    "set_a = {1,2,3,4,5}\n",
    "print(\"Before clear :\",set_a)\n",
    "set_a.clear()\n",
    "print(\"After clear :\",set_a)"
   ]
  },
  {
   "cell_type": "code",
   "execution_count": 51,
   "metadata": {},
   "outputs": [
    {
     "name": "stdout",
     "output_type": "stream",
     "text": [
      "Before updating the Set {99, 'z', 'a', 55, 600, 700}\n",
      "Add elements 166 and 202 to the set\n",
      "After updating the Set {99, 166, 'z', 'a', 202, 55, 600, 700}\n"
     ]
    }
   ],
   "source": [
    "# Add elements to the Set :: update Set\n",
    "\n",
    "set_a = {600,700,99,55,\"a\",\"z\"}\n",
    "print(\"Before updating the Set\", set_a)\n",
    "print(\"Add elements 166 and 202 to the set\")\n",
    "set_a.update({166,202})\n",
    "print(\"After updating the Set\", set_a)\n"
   ]
  },
  {
   "cell_type": "code",
   "execution_count": 52,
   "metadata": {},
   "outputs": [
    {
     "name": "stdout",
     "output_type": "stream",
     "text": [
      "{99, 999, 'z', 'a', 55, 600, 700}\n"
     ]
    }
   ],
   "source": [
    "# We can also use 'add' function to add element to the Set\n",
    "\n",
    "set_a = {600,700,99,55,\"a\",\"z\"}\n",
    "set_a.add(999)\n",
    "print(set_a)"
   ]
  },
  {
   "cell_type": "code",
   "execution_count": null,
   "metadata": {},
   "outputs": [],
   "source": []
  },
  {
   "cell_type": "code",
   "execution_count": 53,
   "metadata": {},
   "outputs": [
    {
     "data": {
      "text/plain": [
       "'\\n\\nAssignment : set_a = [10,20,30,40,50,60]\\nnew_element = 35   #instert item  at appropriate place\\n\\n'"
      ]
     },
     "execution_count": 53,
     "metadata": {},
     "output_type": "execute_result"
    }
   ],
   "source": [
    "'''\n",
    "\n",
    "Assignment : set_a = [10,20,30,40,50,60]\n",
    "new_element = 35   #instert item  at appropriate place\n",
    "\n",
    "'''"
   ]
  },
  {
   "cell_type": "code",
   "execution_count": null,
   "metadata": {},
   "outputs": [],
   "source": []
  }
 ],
 "metadata": {
  "kernelspec": {
   "display_name": "Python 3",
   "language": "python",
   "name": "python3"
  },
  "language_info": {
   "codemirror_mode": {
    "name": "ipython",
    "version": 3
   },
   "file_extension": ".py",
   "mimetype": "text/x-python",
   "name": "python",
   "nbconvert_exporter": "python",
   "pygments_lexer": "ipython3",
   "version": "3.7.4"
  }
 },
 "nbformat": 4,
 "nbformat_minor": 2
}
