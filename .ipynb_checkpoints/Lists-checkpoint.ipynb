{
 "cells": [
  {
   "cell_type": "markdown",
   "metadata": {},
   "source": [
    "### List is a collection which is ordered and changeable. Allows duplicate members."
   ]
  },
  {
   "cell_type": "code",
   "execution_count": 1,
   "metadata": {},
   "outputs": [
    {
     "name": "stdout",
     "output_type": "stream",
     "text": [
      "<class 'list'>\n"
     ]
    }
   ],
   "source": [
    "l = []\n",
    "print(type(l))"
   ]
  },
  {
   "cell_type": "code",
   "execution_count": 4,
   "metadata": {},
   "outputs": [
    {
     "ename": "TypeError",
     "evalue": "unhashable type: 'list'",
     "output_type": "error",
     "traceback": [
      "\u001b[0;31m---------------------------------------------------------------------------\u001b[0m",
      "\u001b[0;31mTypeError\u001b[0m                                 Traceback (most recent call last)",
      "\u001b[0;32m<ipython-input-4-747838a0ab06>\u001b[0m in \u001b[0;36m<module>\u001b[0;34m\u001b[0m\n\u001b[1;32m      2\u001b[0m \u001b[0;34m\u001b[0m\u001b[0m\n\u001b[1;32m      3\u001b[0m \u001b[0ml\u001b[0m \u001b[0;34m=\u001b[0m \u001b[0;34m[\u001b[0m\u001b[0;36m4\u001b[0m\u001b[0;34m,\u001b[0m\u001b[0;36m5\u001b[0m\u001b[0;34m,\u001b[0m\u001b[0;36m6\u001b[0m\u001b[0;34m,\u001b[0m\u001b[0;36m7\u001b[0m\u001b[0;34m,\u001b[0m\u001b[0;36m1\u001b[0m\u001b[0;34m,\u001b[0m\u001b[0;36m2\u001b[0m\u001b[0;34m,\u001b[0m\u001b[0;36m3\u001b[0m\u001b[0;34m]\u001b[0m\u001b[0;34m\u001b[0m\u001b[0;34m\u001b[0m\u001b[0m\n\u001b[0;32m----> 4\u001b[0;31m \u001b[0mprint\u001b[0m\u001b[0;34m(\u001b[0m\u001b[0mhash\u001b[0m\u001b[0;34m(\u001b[0m\u001b[0ml\u001b[0m\u001b[0;34m)\u001b[0m\u001b[0;34m)\u001b[0m\u001b[0;34m\u001b[0m\u001b[0;34m\u001b[0m\u001b[0m\n\u001b[0m",
      "\u001b[0;31mTypeError\u001b[0m: unhashable type: 'list'"
     ]
    }
   ],
   "source": [
    "# is List mutable or immutable\n",
    "\n",
    "l = [4,5,6,7,1,2,3]\n",
    "print(hash(l))"
   ]
  },
  {
   "cell_type": "markdown",
   "metadata": {},
   "source": [
    "Point to remember :\n",
    "- unhashble => mutable "
   ]
  },
  {
   "cell_type": "code",
   "execution_count": null,
   "metadata": {},
   "outputs": [],
   "source": []
  },
  {
   "cell_type": "code",
   "execution_count": 49,
   "metadata": {},
   "outputs": [
    {
     "name": "stdout",
     "output_type": "stream",
     "text": [
      "4411209392\n",
      "4411209232\n",
      "4411209264\n",
      "4411208400\n",
      "\n",
      "Accessing elements of list by indexing :\n",
      "***************\n",
      "600\n",
      "380\n",
      "2000\n"
     ]
    }
   ],
   "source": [
    "# supports indexing +ve a-ve \n",
    "# lets check the memmory address \n",
    "\n",
    "l = [400,500,600,700,100,2000,380]\n",
    "print(id(l[0]))\n",
    "print(id(l[1]))\n",
    "print(id(l[2]))\n",
    "print(id(l[3]))\n",
    "\n",
    "print()\n",
    "print(\"Accessing elements of list by indexing :\")\n",
    "print(\"*\"*15)\n",
    "print(l[2])\n",
    "print(l[-1])\n",
    "print(l[-2])"
   ]
  },
  {
   "cell_type": "markdown",
   "metadata": {},
   "source": [
    "Observation :\n",
    "- Negative index means accessing the elements in reverse "
   ]
  },
  {
   "cell_type": "code",
   "execution_count": 51,
   "metadata": {},
   "outputs": [
    {
     "name": "stdout",
     "output_type": "stream",
     "text": [
      "4411182832\n",
      "4411182640\n",
      "4411182896\n",
      "4411129456\n",
      "4411129776\n",
      "\n",
      "Accessing elements of list by indexing :\n",
      "***************\n",
      "laxman\n",
      "ABD\n",
      "sachin\n"
     ]
    }
   ],
   "source": [
    "team = ['sachin','dravid','laxman','zaheer','ABD']\n",
    "print(id(team[0]))\n",
    "print(id(team[1]))\n",
    "print(id(team[2]))\n",
    "print(id(team[3]))\n",
    "print(id(team[4]))\n",
    "\n",
    "print()\n",
    "print(\"Accessing elements of list by indexing :\")\n",
    "print(\"*\"*15)\n",
    "print(team[2])\n",
    "print(team[-1])\n",
    "print(team[-5])"
   ]
  },
  {
   "cell_type": "code",
   "execution_count": 55,
   "metadata": {},
   "outputs": [
    {
     "name": "stdout",
     "output_type": "stream",
     "text": [
      "['laxman', 'zaheer', 'ABD']\n",
      "['sachin', 'dravid', 'laxman', 'zaheer']\n",
      "['laxman', 'zaheer', 'ABD']\n"
     ]
    }
   ],
   "source": [
    "# Accessing a range of elements in a List\n",
    "\n",
    "team = ['sachin','dravid','laxman','zaheer','ABD']\n",
    "print(team[2:5]) \n",
    "print(team[:4])\n",
    "print(team[2:])"
   ]
  },
  {
   "cell_type": "markdown",
   "metadata": {},
   "source": [
    "Observation :\n",
    "- syntax : list[startIndex:endIndex] => startIndex - inclusive, endIndex - excluding\n",
    "- if we don't provide startIndex its taken as 0, and endIndex is taken as to the end of the list"
   ]
  },
  {
   "cell_type": "code",
   "execution_count": 57,
   "metadata": {},
   "outputs": [
    {
     "name": "stdout",
     "output_type": "stream",
     "text": [
      "['sachin', 'dravid', 'laxman', 'zaheer']\n",
      "['sachin']\n"
     ]
    }
   ],
   "source": [
    "# What if we use negative indexing for range\n",
    "\n",
    "team = ['sachin','dravid','laxman','zaheer','ABD']\n",
    "print(team[-5:-1]) \n",
    "print(team[:-4])"
   ]
  },
  {
   "cell_type": "code",
   "execution_count": null,
   "metadata": {},
   "outputs": [],
   "source": []
  },
  {
   "cell_type": "code",
   "execution_count": null,
   "metadata": {},
   "outputs": [],
   "source": []
  },
  {
   "cell_type": "code",
   "execution_count": 7,
   "metadata": {},
   "outputs": [
    {
     "data": {
      "text/plain": [
       "7"
      ]
     },
     "execution_count": 7,
     "metadata": {},
     "output_type": "execute_result"
    }
   ],
   "source": [
    "# size of the list\n",
    "\n",
    "l = [4,5,6,7,1,2,3]\n",
    "len(l)"
   ]
  },
  {
   "cell_type": "code",
   "execution_count": null,
   "metadata": {},
   "outputs": [],
   "source": []
  },
  {
   "cell_type": "code",
   "execution_count": 9,
   "metadata": {},
   "outputs": [
    {
     "name": "stdout",
     "output_type": "stream",
     "text": [
      "4369376496\n",
      "4369376496\n",
      "[4, 5, 6, 7, 1, 2, 3, 'a', 'b', 'c']\n"
     ]
    }
   ],
   "source": [
    "# if we add lists, does it create a new list (lets check it with the memory address)\n",
    "\n",
    "l = [4,5,6,7,1,2,3]\n",
    "print(id(l[0]))\n",
    "\n",
    "l1 = ['a','b','c']\n",
    "l = l+l1\n",
    "print(id(l[0]))\n",
    "print(l)"
   ]
  },
  {
   "cell_type": "markdown",
   "metadata": {},
   "source": [
    "Observation :\n",
    "- memory address of the 1st element remains the same, which means its the same list"
   ]
  },
  {
   "cell_type": "code",
   "execution_count": null,
   "metadata": {},
   "outputs": [],
   "source": []
  },
  {
   "cell_type": "code",
   "execution_count": 10,
   "metadata": {},
   "outputs": [
    {
     "name": "stdout",
     "output_type": "stream",
     "text": [
      "[4, 5, 6, 7, 1, 2, 3, [1, 2, 3, 45]]\n",
      "[4, 5, 6, 7, 1, 2, 3, 1, 2, 3, 45]\n"
     ]
    }
   ],
   "source": [
    "# Ways to merge 2 lists\n",
    "# Difference between 'APPEND' and 'EXTEND'\n",
    "\n",
    "l = [4,5,6,7,1,2,3]\n",
    "l.append([1,2,3,45])\n",
    "print(l)\n",
    "# [4, 5, 6, 7, 1, 2, 3, [1, 2, 3, 45]]\n",
    "\n",
    "l = [4,5,6,7,1,2,3]\n",
    "l.extend([1,2,3,45])\n",
    "print(l)"
   ]
  },
  {
   "cell_type": "markdown",
   "metadata": {},
   "source": [
    "Observation :\n",
    "- append : appends the entire list as the new element at the end of the list\n",
    "- extend : adds each element of the new list in sequence at the end of the first (initial List)"
   ]
  },
  {
   "cell_type": "code",
   "execution_count": null,
   "metadata": {},
   "outputs": [],
   "source": []
  },
  {
   "cell_type": "markdown",
   "metadata": {},
   "source": [
    "#### Insertion and Deletion of Items in a List"
   ]
  },
  {
   "cell_type": "code",
   "execution_count": 15,
   "metadata": {},
   "outputs": [
    {
     "name": "stdout",
     "output_type": "stream",
     "text": [
      "Check the address of element where we want to insert 4369376560\n",
      "********************\n",
      "Before Insertion\n",
      "4369376496\n",
      "4369376528\n",
      "4369376560\n",
      "4369376592\n",
      "4369376400\n",
      "********************\n",
      "[4, 5, 99, 6, 7, 1, 2, 3]\n",
      "Check the address of element where we have inserted 4369379536\n",
      "********************\n",
      "After Insertion\n",
      "4369376496\n",
      "4369376528\n",
      "4369379536\n",
      "4369376560\n",
      "4369376592\n",
      "********************\n"
     ]
    }
   ],
   "source": [
    "# Insert a element in a List\n",
    "\n",
    "l = [4,5,6,7,1,2,3]\n",
    "print(\"Check the address of element where we want to insert\",id(l[2]))\n",
    "print(\"*\"*20)\n",
    "print(\"Before Insertion\")\n",
    "print(id(l[0]))\n",
    "print(id(l[1]))\n",
    "print(id(l[2]))\n",
    "print(id(l[3]))\n",
    "print(id(l[4]))\n",
    "print(\"*\"*20)\n",
    "\n",
    "l.insert(2,99)\n",
    "print(l)\n",
    "print(\"Check the address of element where we have inserted\",id(l[2]))\n",
    "print(\"*\"*20)\n",
    "print(\"After Insertion\")\n",
    "print(id(l[0]))\n",
    "print(id(l[1]))\n",
    "print(id(l[2]))\n",
    "print(id(l[3]))\n",
    "print(id(l[4]))\n",
    "print(\"*\"*20)"
   ]
  },
  {
   "cell_type": "markdown",
   "metadata": {},
   "source": [
    "Observation :\n",
    "- new element, assigned at some other memory address, has been inserted in the List - at that position"
   ]
  },
  {
   "cell_type": "code",
   "execution_count": 64,
   "metadata": {},
   "outputs": [
    {
     "name": "stdout",
     "output_type": "stream",
     "text": [
      "Original List :  [4, 5, 6, 7, 1, 2, 3]\n",
      "*********************************************\n",
      "\n",
      "# using remove to delete element -> 6 [4, 5, 7, 1, 2, 3]\n",
      "********************\n",
      "After Deletion : remove elememt from list\n",
      "4369376496\n",
      "4369376528\n",
      "4369376592\n",
      "4369376400\n",
      "4369376432\n",
      "********************\n",
      "\n",
      "# using pop to remove element [4, 5, 6, 7, 1, 2]\n",
      "********************\n",
      "After Deletion : pop\n",
      "4369376496\n",
      "4369376528\n",
      "4369376560\n",
      "4369376592\n",
      "4369376400\n",
      "********************\n",
      "\n",
      "# pop : element at index 1 [4, 6, 7, 1, 2, 3]\n",
      "********************\n",
      "After Deletion : pop from index\n",
      "4369376496\n",
      "4369376560\n",
      "4369376592\n",
      "4369376400\n",
      "4369376432\n",
      "********************\n",
      "\n",
      "# using del to remove element from the list :  ['sachin', 'dravid', 'laxman', 'zaheer', 'ABD']\n",
      "********************\n",
      "After Deletion of 3rd element using index: del\n",
      "['sachin', 'dravid', 'zaheer', 'ABD']\n",
      "********************\n",
      "\n",
      "# using del to remove element from the list :  ['sachin', 'dravid', 'laxman', 'zaheer', 'ABD']\n",
      "********************\n",
      "After Deletion of 3rd element using index: del\n"
     ]
    },
    {
     "ename": "NameError",
     "evalue": "name 'team' is not defined",
     "output_type": "error",
     "traceback": [
      "\u001b[0;31m---------------------------------------------------------------------------\u001b[0m",
      "\u001b[0;31mNameError\u001b[0m                                 Traceback (most recent call last)",
      "\u001b[0;32m<ipython-input-64-5fe957b1fd86>\u001b[0m in \u001b[0;36m<module>\u001b[0;34m\u001b[0m\n\u001b[1;32m     62\u001b[0m \u001b[0;32mdel\u001b[0m \u001b[0mteam\u001b[0m\u001b[0;34m\u001b[0m\u001b[0;34m\u001b[0m\u001b[0m\n\u001b[1;32m     63\u001b[0m \u001b[0mprint\u001b[0m\u001b[0;34m(\u001b[0m\u001b[0;34m\"After Deletion of 3rd element using index: del\"\u001b[0m\u001b[0;34m)\u001b[0m\u001b[0;34m\u001b[0m\u001b[0;34m\u001b[0m\u001b[0m\n\u001b[0;32m---> 64\u001b[0;31m \u001b[0mprint\u001b[0m\u001b[0;34m(\u001b[0m\u001b[0mteam\u001b[0m\u001b[0;34m)\u001b[0m\u001b[0;34m\u001b[0m\u001b[0;34m\u001b[0m\u001b[0m\n\u001b[0m\u001b[1;32m     65\u001b[0m \u001b[0mprint\u001b[0m\u001b[0;34m(\u001b[0m\u001b[0;34m\"*\"\u001b[0m\u001b[0;34m*\u001b[0m\u001b[0;36m20\u001b[0m\u001b[0;34m)\u001b[0m\u001b[0;34m\u001b[0m\u001b[0;34m\u001b[0m\u001b[0m\n\u001b[1;32m     66\u001b[0m \u001b[0mprint\u001b[0m\u001b[0;34m(\u001b[0m\u001b[0;34m)\u001b[0m\u001b[0;34m\u001b[0m\u001b[0;34m\u001b[0m\u001b[0m\n",
      "\u001b[0;31mNameError\u001b[0m: name 'team' is not defined"
     ]
    }
   ],
   "source": [
    "# Ways to Delete - 'remove' and 'pop'\n",
    "l = [4,5,6,7,1,2,3]\n",
    "print(\"Original List : \",l)\n",
    "print(\"*\"*45)\n",
    "print()\n",
    "\n",
    "# using 'remove'\n",
    "l = [4,5,6,7,1,2,3]\n",
    "l.remove(6) #number => value \n",
    "print(\"# using remove to delete element -> 6\",l)\n",
    "print(\"*\"*20)\n",
    "print(\"After Deletion : remove elememt from list\")\n",
    "print(id(l[0]))\n",
    "print(id(l[1]))\n",
    "print(id(l[2]))\n",
    "print(id(l[3]))\n",
    "print(id(l[4]))\n",
    "print(\"*\"*20)\n",
    "print()\n",
    "\n",
    "# using 'pop'\n",
    "l = [4,5,6,7,1,2,3]\n",
    "l.pop()\n",
    "print(\"# using pop to remove element\",l)\n",
    "print(\"*\"*20)\n",
    "print(\"After Deletion : pop\")\n",
    "print(id(l[0]))\n",
    "print(id(l[1]))\n",
    "print(id(l[2]))\n",
    "print(id(l[3]))\n",
    "print(id(l[4]))\n",
    "print(\"*\"*20)\n",
    "print()\n",
    "\n",
    "l = [4,5,6,7,1,2,3]\n",
    "l.pop(1) #number => index\n",
    "print(\"# pop : element at index 1\",l)\n",
    "print(\"*\"*20)\n",
    "print(\"After Deletion : pop from index\")\n",
    "print(id(l[0]))\n",
    "print(id(l[1]))\n",
    "print(id(l[2]))\n",
    "print(id(l[3]))\n",
    "print(id(l[4]))\n",
    "print(\"*\"*20)\n",
    "print()\n",
    "\n",
    "# using 'del' to delete element using index\n",
    "team = ['sachin','dravid','laxman','zaheer','ABD']\n",
    "print(\"# using del to remove element from the list : \",team)\n",
    "print(\"*\"*20)\n",
    "del team[2]\n",
    "print(\"After Deletion of 3rd element using index: del\")\n",
    "print(team)\n",
    "print(\"*\"*20)\n",
    "print()\n",
    "\n",
    "# using 'del' to delete the List\n",
    "team = ['sachin','dravid','laxman','zaheer','ABD']\n",
    "print(\"# using del to remove element from the list : \",team)\n",
    "print(\"*\"*20)\n",
    "del team\n",
    "print(\"After Deletion of List: del\")\n",
    "print(team)\n",
    "print(\"*\"*20)\n",
    "print()"
   ]
  },
  {
   "cell_type": "code",
   "execution_count": 66,
   "metadata": {},
   "outputs": [
    {
     "name": "stdout",
     "output_type": "stream",
     "text": [
      "# using 'clear' to clear the list :  ['sachin', 'dravid', 'laxman', 'zaheer', 'ABD']\n",
      "********************\n",
      "After Clear\n",
      "[]\n",
      "********************\n",
      "\n"
     ]
    }
   ],
   "source": [
    "# Using \"Clear\" to clear the List\n",
    "\n",
    "team = ['sachin','dravid','laxman','zaheer','ABD']\n",
    "print(\"# using 'clear' to clear the list : \",team)\n",
    "print(\"*\"*20)\n",
    "team.clear()\n",
    "print(\"After Clear\")\n",
    "print(team)\n",
    "print(\"*\"*20)\n",
    "print()"
   ]
  },
  {
   "cell_type": "markdown",
   "metadata": {},
   "source": [
    "Observation :\n",
    "- remove -> deletes the element passed to the method from the original list\n",
    "- del -> can be used to delete the list reference itself, or just an element with the help of index\n",
    "- clear -> clears the list \n",
    "- pop -> deletes the element from the passed index, by default deletes the last element => Why ???\n",
    "\n",
    "Hint : LIFO"
   ]
  },
  {
   "cell_type": "code",
   "execution_count": null,
   "metadata": {},
   "outputs": [],
   "source": []
  },
  {
   "cell_type": "markdown",
   "metadata": {},
   "source": [
    "#### sorting a List"
   ]
  },
  {
   "cell_type": "code",
   "execution_count": 37,
   "metadata": {},
   "outputs": [
    {
     "name": "stdout",
     "output_type": "stream",
     "text": [
      "Sort the list : Ascending\n",
      "[1, 2, 3, 4, 5, 6, 7]\n",
      "4369376400\n",
      "4369376592\n",
      "\n",
      "Sort the list : Descending\n",
      "[7, 6, 5, 4, 3, 2, 1]\n",
      "4369376592\n",
      "4369376400\n",
      "\n",
      "Before Reverse :::::::::::::::::::>>>>>>>>>>>\n",
      "[4, 5, 6, 7, 1, 2, 3]\n",
      "First element :  4369376496\n",
      "Last element :  4369376464\n",
      "After Reverse :::::::::::::::::::>>>>>>>>>>>\n",
      "[3, 2, 1, 7, 6, 5, 4]\n",
      "First element :  4369376464\n",
      "Last element :  4369376496\n",
      "\n",
      "Before Reverse :::::::::::::::::::>>>>>>>>>>>\n",
      "[4, 5, 6, 7, 1, 2, 3]\n",
      "After Reverse :::::::::::::::::::>>>>>>>>>>>\n",
      "[3, 2, 1, 7, 6, 5, 4]\n"
     ]
    }
   ],
   "source": [
    "# sort the list : ascending and decending\n",
    "\n",
    "l = [4,5,6,7,1,2,3]\n",
    "l.sort()\n",
    "print(\"Sort the list : Ascending\")\n",
    "print(l)\n",
    "print(id(l[0]))\n",
    "print(id(l[-1]))\n",
    "print()\n",
    "\n",
    "l.sort(reverse=True)\n",
    "print(\"Sort the list : Descending\")\n",
    "print(l)\n",
    "print(id(l[0]))\n",
    "print(id(l[-1]))\n",
    "print()\n",
    "\n",
    "\n",
    "# check the reverse of list by memory address\n",
    "l = [4,5,6,7,1,2,3]\n",
    "print(\"Before Reverse :::::::::::::::::::>>>>>>>>>>>\")\n",
    "print(l)\n",
    "print(\"First element : \",id(l[0]))\n",
    "print(\"Last element : \",id(l[-1]))\n",
    "l.reverse()\n",
    "print(\"After Reverse :::::::::::::::::::>>>>>>>>>>>\")\n",
    "print(l)\n",
    "print(\"First element : \",id(l[0]))\n",
    "print(\"Last element : \",id(l[-1]))\n",
    "print()\n",
    "\n",
    "# Reverse the list through slicing\n",
    "l = [4,5,6,7,1,2,3]\n",
    "#slicing\n",
    "print(\"Before Reverse :::::::::::::::::::>>>>>>>>>>>\")\n",
    "print(l)\n",
    "print(\"After Reverse :::::::::::::::::::>>>>>>>>>>>\")\n",
    "print(l[::-1])\n"
   ]
  },
  {
   "cell_type": "markdown",
   "metadata": {},
   "source": [
    "Observation :\n",
    "- to sort the list in reverse : sort(reverse=True)\n",
    "- reverse sorting can be done quickly with the help of List Slicing"
   ]
  },
  {
   "cell_type": "code",
   "execution_count": null,
   "metadata": {},
   "outputs": [],
   "source": []
  },
  {
   "cell_type": "code",
   "execution_count": 41,
   "metadata": {},
   "outputs": [
    {
     "name": "stdout",
     "output_type": "stream",
     "text": [
      "True\n",
      "First element :  4411207984\n",
      "Last element :  4411208080\n",
      "First element :  4411208368\n",
      "Last element :  4411208176\n"
     ]
    }
   ],
   "source": [
    "# List comparision\n",
    "\n",
    "l = [400,500,600,700,100,200,300]\n",
    "l1 = [400,500,600,700,100,200,300]\n",
    "print(l == l1)\n",
    "\n",
    "print(\"First element : \",id(l[0]))\n",
    "print(\"Last element : \",id(l[-1]))\n",
    "print(\"First element : \",id(l1[0]))\n",
    "print(\"Last element : \",id(l1[-1]))"
   ]
  },
  {
   "cell_type": "markdown",
   "metadata": {},
   "source": [
    "Observation :\n",
    "- This is not an object reference comparision, its comparing the list element by element"
   ]
  },
  {
   "cell_type": "code",
   "execution_count": null,
   "metadata": {},
   "outputs": [],
   "source": []
  },
  {
   "cell_type": "code",
   "execution_count": 60,
   "metadata": {},
   "outputs": [
    {
     "name": "stdout",
     "output_type": "stream",
     "text": [
      "True\n",
      "Yes, 'Sachin' is in the team list\n"
     ]
    }
   ],
   "source": [
    "# Check whether an element is present in a list or not\n",
    "\n",
    "l = [4,5,6,7,1,2,3]\n",
    "print(5 in l)\n",
    "\n",
    "# Another way\n",
    "team = ['sachin','dravid','laxman','zaheer','ABD']\n",
    "if \"sachin\" in team:\n",
    "  print(\"Yes, 'Sachin' is in the team list\")"
   ]
  },
  {
   "cell_type": "code",
   "execution_count": null,
   "metadata": {},
   "outputs": [],
   "source": []
  },
  {
   "cell_type": "code",
   "execution_count": 44,
   "metadata": {},
   "outputs": [
    {
     "name": "stdout",
     "output_type": "stream",
     "text": [
      "3\n"
     ]
    }
   ],
   "source": [
    "# Get the index of an element in the list \n",
    "\n",
    "l = [4,5,6,7,1,2,3]\n",
    "print(l.index(7))"
   ]
  },
  {
   "cell_type": "code",
   "execution_count": null,
   "metadata": {},
   "outputs": [],
   "source": []
  },
  {
   "cell_type": "code",
   "execution_count": 47,
   "metadata": {},
   "outputs": [
    {
     "name": "stdout",
     "output_type": "stream",
     "text": [
      "[4, 5, 6, 7, 1, 2, 3, 4, 5, 6, 7, 1, 2, 3, 4, 5, 6, 7, 1, 2, 3]\n"
     ]
    }
   ],
   "source": [
    "# Special case of \"*\"\n",
    "\n",
    "l = [4,5,6,7,1,2,3]\n",
    "print(l*3)\n"
   ]
  },
  {
   "cell_type": "code",
   "execution_count": null,
   "metadata": {},
   "outputs": [],
   "source": []
  },
  {
   "cell_type": "code",
   "execution_count": 58,
   "metadata": {},
   "outputs": [
    {
     "name": "stdout",
     "output_type": "stream",
     "text": [
      "['sachin', 'dravid', 'sehwag', 'zaheer', 'ABD']\n"
     ]
    }
   ],
   "source": [
    "# Modify the List\n",
    "\n",
    "team = ['sachin','dravid','laxman','zaheer','ABD']\n",
    "team[2] = 'sehwag'\n",
    "\n",
    "print(team)"
   ]
  },
  {
   "cell_type": "markdown",
   "metadata": {},
   "source": [
    "Observation :\n",
    "- modify the element with the help of indexing"
   ]
  },
  {
   "cell_type": "code",
   "execution_count": null,
   "metadata": {},
   "outputs": [],
   "source": []
  },
  {
   "cell_type": "code",
   "execution_count": 59,
   "metadata": {},
   "outputs": [
    {
     "name": "stdout",
     "output_type": "stream",
     "text": [
      "sachin\n",
      "dravid\n",
      "laxman\n",
      "zaheer\n",
      "ABD\n"
     ]
    }
   ],
   "source": [
    "# Accessing all the items of a List through Loop\n",
    "\n",
    "team = ['sachin','dravid','laxman','zaheer','ABD']\n",
    "for members in team:\n",
    "    print(members)"
   ]
  },
  {
   "cell_type": "code",
   "execution_count": null,
   "metadata": {},
   "outputs": [],
   "source": []
  },
  {
   "cell_type": "code",
   "execution_count": null,
   "metadata": {},
   "outputs": [],
   "source": []
  }
 ],
 "metadata": {
  "kernelspec": {
   "display_name": "Python 3",
   "language": "python",
   "name": "python3"
  },
  "language_info": {
   "codemirror_mode": {
    "name": "ipython",
    "version": 3
   },
   "file_extension": ".py",
   "mimetype": "text/x-python",
   "name": "python",
   "nbconvert_exporter": "python",
   "pygments_lexer": "ipython3",
   "version": "3.7.4"
  }
 },
 "nbformat": 4,
 "nbformat_minor": 2
}
