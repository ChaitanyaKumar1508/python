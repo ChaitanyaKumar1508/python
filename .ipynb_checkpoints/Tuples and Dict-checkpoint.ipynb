{
 "cells": [
  {
   "cell_type": "markdown",
   "metadata": {},
   "source": [
    "# Tuples"
   ]
  },
  {
   "cell_type": "markdown",
   "metadata": {},
   "source": [
    "A tuple is a collection which is ordered and unchangeable. Tuples are written with round brackets in python."
   ]
  },
  {
   "cell_type": "markdown",
   "metadata": {},
   "source": [
    "### Properties :\n",
    "\n",
    "- immutable\n",
    "- supports slicing\n"
   ]
  },
  {
   "cell_type": "markdown",
   "metadata": {},
   "source": [
    "### Advantages of tuples over list \n",
    "\n",
    "- iterating on tuples are faster than list \n",
    "- immutable we have its implementation in dict (we will ses how)\n",
    "- immutable data u can always be stored as tuples "
   ]
  },
  {
   "cell_type": "code",
   "execution_count": null,
   "metadata": {},
   "outputs": [],
   "source": []
  },
  {
   "cell_type": "code",
   "execution_count": 1,
   "metadata": {},
   "outputs": [
    {
     "name": "stdout",
     "output_type": "stream",
     "text": [
      "<class 'tuple'>\n"
     ]
    }
   ],
   "source": [
    "t = ()\n",
    "print(type(t))"
   ]
  },
  {
   "cell_type": "code",
   "execution_count": 2,
   "metadata": {},
   "outputs": [
    {
     "name": "stdout",
     "output_type": "stream",
     "text": [
      "<class 'tuple'>\n"
     ]
    }
   ],
   "source": [
    "# Initializing a tuple\n",
    "\n",
    "t = 1,\n",
    "print(type(t))"
   ]
  },
  {
   "cell_type": "code",
   "execution_count": 4,
   "metadata": {},
   "outputs": [
    {
     "name": "stdout",
     "output_type": "stream",
     "text": [
      "1\n",
      "8315274433719620810\n"
     ]
    },
    {
     "ename": "TypeError",
     "evalue": "'tuple' object does not support item assignment",
     "output_type": "error",
     "traceback": [
      "\u001b[0;31m---------------------------------------------------------------------------\u001b[0m",
      "\u001b[0;31mTypeError\u001b[0m                                 Traceback (most recent call last)",
      "\u001b[0;32m<ipython-input-4-df62e9e7a477>\u001b[0m in \u001b[0;36m<module>\u001b[0;34m\u001b[0m\n\u001b[1;32m      4\u001b[0m \u001b[0mprint\u001b[0m\u001b[0;34m(\u001b[0m\u001b[0mtuple_a\u001b[0m\u001b[0;34m[\u001b[0m\u001b[0;36m0\u001b[0m\u001b[0;34m]\u001b[0m\u001b[0;34m)\u001b[0m\u001b[0;34m\u001b[0m\u001b[0;34m\u001b[0m\u001b[0m\n\u001b[1;32m      5\u001b[0m \u001b[0mprint\u001b[0m\u001b[0;34m(\u001b[0m\u001b[0mhash\u001b[0m\u001b[0;34m(\u001b[0m\u001b[0mtuple_a\u001b[0m\u001b[0;34m)\u001b[0m\u001b[0;34m)\u001b[0m \u001b[0;31m#it is hashble => immutable\u001b[0m\u001b[0;34m\u001b[0m\u001b[0;34m\u001b[0m\u001b[0m\n\u001b[0;32m----> 6\u001b[0;31m \u001b[0mtuple_a\u001b[0m\u001b[0;34m[\u001b[0m\u001b[0;36m0\u001b[0m\u001b[0;34m]\u001b[0m\u001b[0;34m=\u001b[0m \u001b[0;36m99\u001b[0m\u001b[0;34m\u001b[0m\u001b[0;34m\u001b[0m\u001b[0m\n\u001b[0m",
      "\u001b[0;31mTypeError\u001b[0m: 'tuple' object does not support item assignment"
     ]
    }
   ],
   "source": [
    "# is Tuple immutable ?? => hasable or not\n",
    "\n",
    "tuple_a = (1,2,3,4,5)\n",
    "print(tuple_a[0])\n",
    "print(hash(tuple_a)) #it is hashble => immutable \n",
    "tuple_a[0]= 99 #this should throw an error"
   ]
  },
  {
   "cell_type": "markdown",
   "metadata": {},
   "source": [
    "Observation :\n",
    "- tuples are Hashable, which means they are immutable\n",
    "- tuples can be accessed by index"
   ]
  },
  {
   "cell_type": "code",
   "execution_count": null,
   "metadata": {},
   "outputs": [],
   "source": []
  },
  {
   "cell_type": "code",
   "execution_count": 7,
   "metadata": {},
   "outputs": [
    {
     "name": "stdout",
     "output_type": "stream",
     "text": [
      "tuple_a : (1, 2, 3, 4)\n",
      "tuple_b : ('a', 'b', 'c')\n",
      "Result after Joining : (1, 2, 3, 4, 'a', 'b', 'c')\n"
     ]
    }
   ],
   "source": [
    "# Join 2 tuples \n",
    "\n",
    "tuple_a = 1,2,3,4\n",
    "tuple_b = \"a\",\"b\",\"c\"\n",
    "print(\"tuple_a :\", tuple_a)\n",
    "print(\"tuple_b :\", tuple_b)\n",
    "result = tuple_a+tuple_b\n",
    "print(\"Result after Joining :\",result)"
   ]
  },
  {
   "cell_type": "code",
   "execution_count": null,
   "metadata": {},
   "outputs": [],
   "source": []
  },
  {
   "cell_type": "code",
   "execution_count": 10,
   "metadata": {},
   "outputs": [
    {
     "name": "stdout",
     "output_type": "stream",
     "text": [
      "(2,)\n"
     ]
    }
   ],
   "source": [
    "# Slicing operation on tuples\n",
    "\n",
    "tuple_a = 1,2,3,4,5,6\n",
    "print(tuple_a[1::5])"
   ]
  },
  {
   "cell_type": "code",
   "execution_count": 11,
   "metadata": {},
   "outputs": [
    {
     "name": "stdout",
     "output_type": "stream",
     "text": [
      "tuple_a : (1, 2, 3, 4, 5, 6)\n",
      "reverse of tuple_a : (6, 5, 4, 3, 2, 1)\n"
     ]
    }
   ],
   "source": [
    "# Reverse a tuple :: slicing\n",
    "\n",
    "tuple_a = 1,2,3,4,5,6\n",
    "print(\"tuple_a :\", tuple_a)\n",
    "print(\"reverse of tuple_a :\",tuple_a[::-1])"
   ]
  },
  {
   "cell_type": "code",
   "execution_count": 12,
   "metadata": {},
   "outputs": [
    {
     "name": "stdout",
     "output_type": "stream",
     "text": [
      "max of tuple : 6\n",
      "min of tuple : 1\n"
     ]
    }
   ],
   "source": [
    "# Min and Max of tuple\n",
    "\n",
    "tuple_a = 1,2,3,4,5,6\n",
    "print(\"max of tuple :\",max(tuple_a))\n",
    "print(\"min of tuple :\",min(tuple_a))\n"
   ]
  },
  {
   "cell_type": "code",
   "execution_count": 13,
   "metadata": {},
   "outputs": [
    {
     "ename": "NameError",
     "evalue": "name 'tuple_a' is not defined",
     "output_type": "error",
     "traceback": [
      "\u001b[0;31m---------------------------------------------------------------------------\u001b[0m",
      "\u001b[0;31mNameError\u001b[0m                                 Traceback (most recent call last)",
      "\u001b[0;32m<ipython-input-13-fd18b0a4f0d0>\u001b[0m in \u001b[0;36m<module>\u001b[0;34m\u001b[0m\n\u001b[1;32m      1\u001b[0m \u001b[0;32mdel\u001b[0m \u001b[0mtuple_a\u001b[0m\u001b[0;34m\u001b[0m\u001b[0;34m\u001b[0m\u001b[0m\n\u001b[0;32m----> 2\u001b[0;31m \u001b[0mprint\u001b[0m\u001b[0;34m(\u001b[0m\u001b[0mtuple_a\u001b[0m\u001b[0;34m)\u001b[0m\u001b[0;34m\u001b[0m\u001b[0;34m\u001b[0m\u001b[0m\n\u001b[0m",
      "\u001b[0;31mNameError\u001b[0m: name 'tuple_a' is not defined"
     ]
    }
   ],
   "source": [
    "del tuple_a\n",
    "print(tuple_a) #should throw error as tuple has been deleted"
   ]
  },
  {
   "cell_type": "code",
   "execution_count": null,
   "metadata": {},
   "outputs": [],
   "source": []
  },
  {
   "cell_type": "code",
   "execution_count": 15,
   "metadata": {},
   "outputs": [
    {
     "name": "stdout",
     "output_type": "stream",
     "text": [
      "tuple_a : (1, 2, 3, 4, 5, 6)\n",
      "element at index 3 of tuple_a : 2\n",
      "length of tuple : 6\n",
      "multiply tuple_a with 4 : (1, 2, 3, 4, 5, 6, 1, 2, 3, 4, 5, 6, 1, 2, 3, 4, 5, 6, 1, 2, 3, 4, 5, 6)\n",
      "is 3 present in tuple_a : True\n"
     ]
    }
   ],
   "source": [
    "# Various Operations on tuples\n",
    "\n",
    "tuple_a = 1,2,3,4,5,6\n",
    "print(\"tuple_a :\", tuple_a)\n",
    "print(\"element at index 3 of tuple_a :\",tuple_a.index(3))\n",
    "print(\"length of tuple :\",len(tuple_a))\n",
    "print(\"multiply tuple_a with 4 :\",tuple_a*4)\n",
    "print(\"is 3 present in tuple_a :\",3 in tuple_a)"
   ]
  },
  {
   "cell_type": "code",
   "execution_count": null,
   "metadata": {},
   "outputs": [],
   "source": []
  },
  {
   "cell_type": "code",
   "execution_count": 18,
   "metadata": {},
   "outputs": [
    {
     "name": "stdout",
     "output_type": "stream",
     "text": [
      "tuple_a : (1, 2, 3, 4, 5)\n",
      "tuple_a as list : [1, 2, 3, 4, 5]\n"
     ]
    }
   ],
   "source": [
    "# convert tuple to List\n",
    "\n",
    "tuple_a = 1,2,3,4,5\n",
    "print(\"tuple_a :\", tuple_a)\n",
    "print(\"tuple_a as list :\",list(tuple_a))\n"
   ]
  },
  {
   "cell_type": "code",
   "execution_count": 20,
   "metadata": {},
   "outputs": [
    {
     "name": "stdout",
     "output_type": "stream",
     "text": [
      "tuple_a : (1, 2, 3, 4, 5)\n",
      "tuple_a as string : (1, 2, 3, 4, 5)\n",
      "element as 0th index of tuple_a : 1\n",
      "element as 0th index of string : (\n"
     ]
    }
   ],
   "source": [
    "# tuple as string\n",
    "\n",
    "tuple_a = 1,2,3,4,5\n",
    "s1 =(str(tuple_a))\n",
    "print(\"tuple_a :\", tuple_a)\n",
    "print(\"tuple_a as string :\", s1)\n",
    "print(\"element as 0th index of tuple_a :\",tuple_a[0])\n",
    "print(\"element as 0th index of string :\",s1[0])"
   ]
  },
  {
   "cell_type": "code",
   "execution_count": null,
   "metadata": {},
   "outputs": [],
   "source": []
  },
  {
   "cell_type": "markdown",
   "metadata": {},
   "source": [
    "### Operations on tuples : Iteration, deletion, remove, join\n",
    "- can't remove items from tuple. why ??\n",
    "\n",
    "\n",
    "(Hint : immutable)"
   ]
  },
  {
   "cell_type": "code",
   "execution_count": 23,
   "metadata": {},
   "outputs": [
    {
     "name": "stdout",
     "output_type": "stream",
     "text": [
      "team tuple : ('sachin', 'dravid', 'sehwag', 'laxman', 'ganguly')\n",
      "team members from index 2 to 5 : ('sehwag', 'laxman', 'ganguly')\n",
      "team members from index -4 to -1 : ('dravid', 'sehwag', 'laxman')\n"
     ]
    }
   ],
   "source": [
    "# accessing tuple elements\n",
    "\n",
    "tuple_team = (\"sachin\", \"dravid\", \"sehwag\", \"laxman\", \"ganguly\")\n",
    "print(\"team tuple :\", tuple_team)\n",
    "print(\"team members from index 2 to 5 :\",tuple_team[2:5])\n",
    "print(\"team members from index -4 to -1 :\",tuple_team[-4:-1])\n"
   ]
  },
  {
   "cell_type": "markdown",
   "metadata": {},
   "source": [
    "Observation :\n",
    "- indexing works as it works everywhere, including the element at startIndex and excluding the element at endIndex"
   ]
  },
  {
   "cell_type": "code",
   "execution_count": null,
   "metadata": {},
   "outputs": [],
   "source": []
  },
  {
   "cell_type": "code",
   "execution_count": 24,
   "metadata": {},
   "outputs": [
    {
     "name": "stdout",
     "output_type": "stream",
     "text": [
      "sachin\n",
      "dravid\n",
      "sehwag\n",
      "laxman\n",
      "ganguly\n"
     ]
    }
   ],
   "source": [
    "# Accessing elements through loop\n",
    "\n",
    "tuple_team = (\"sachin\", \"dravid\", \"sehwag\", \"laxman\", \"ganguly\")\n",
    "for members in tuple_team:\n",
    "    print(members)"
   ]
  },
  {
   "cell_type": "code",
   "execution_count": 26,
   "metadata": {},
   "outputs": [
    {
     "name": "stdout",
     "output_type": "stream",
     "text": [
      "team (tuple) list : ('sachin', 'dravid', 'sehwag', 'laxman', 'ganguly')\n",
      "Sachin is in team :  True\n",
      "Kambli is in team : False\n"
     ]
    }
   ],
   "source": [
    "# Checking if the element is in the tuple or not\n",
    "\n",
    "tuple_team = (\"sachin\", \"dravid\", \"sehwag\", \"laxman\", \"ganguly\")\n",
    "print(\"team (tuple) list :\", tuple_team)\n",
    "print(\"Sachin is in team : \", \"sachin\" in tuple_team)\n",
    "print(\"Kambli is in team :\", \"kambli\" in tuple_team)"
   ]
  },
  {
   "cell_type": "code",
   "execution_count": 30,
   "metadata": {},
   "outputs": [
    {
     "name": "stdout",
     "output_type": "stream",
     "text": [
      "tuple_a : ('x', 'y', 'z')\n",
      "tuple_b : (1, 2, 3)\n",
      "***********************************\n",
      "After join : ('x', 'y', 'z', 1, 2, 3)\n"
     ]
    }
   ],
   "source": [
    "# Join list\n",
    "\n",
    "tuple_a = (\"x\",\"y\",\"z\")\n",
    "tuple_b = (1,2,3)\n",
    "\n",
    "tuple_c = tuple_a + tuple_b\n",
    "print(\"tuple_a :\", tuple_a)\n",
    "print(\"tuple_b :\", tuple_b)\n",
    "print(\"*\"*35)\n",
    "print(\"After join :\",tuple_c)\n"
   ]
  },
  {
   "cell_type": "code",
   "execution_count": 36,
   "metadata": {},
   "outputs": [
    {
     "name": "stdout",
     "output_type": "stream",
     "text": [
      "1 occurs => 3 times\n",
      "3 occurs => 1 times\n"
     ]
    }
   ],
   "source": [
    "# Frequency of an element in a tuple :: number of times an element occur in a tuple\n",
    "\n",
    "tuple_a = (1,2,3,1,2,4,5,7,8,1,5,9)\n",
    "print(\"1 occurs =>\",tuple_a.count(1), \"times\")\n",
    "print(\"3 occurs =>\",tuple_a.count(3), \"times\")"
   ]
  },
  {
   "cell_type": "code",
   "execution_count": 41,
   "metadata": {},
   "outputs": [
    {
     "name": "stdout",
     "output_type": "stream",
     "text": [
      "index of 1 : 0\n",
      "index of 9 : 11\n"
     ]
    }
   ],
   "source": [
    "# Get index of any element in the tuple\n",
    "\n",
    "tuple_a = (1,2,3,1,2,4,5,7,8,1,5,9)\n",
    "print(\"index of 1 :\",tuple_a.index(1))\n",
    "print(\"index of 9 :\",tuple_a.index(9))"
   ]
  },
  {
   "cell_type": "markdown",
   "metadata": {},
   "source": [
    "Observation :\n",
    "- 'index' function returns the index of 1st occurance of that element in the tuple"
   ]
  },
  {
   "cell_type": "code",
   "execution_count": null,
   "metadata": {},
   "outputs": [],
   "source": []
  },
  {
   "cell_type": "code",
   "execution_count": null,
   "metadata": {},
   "outputs": [],
   "source": []
  },
  {
   "cell_type": "markdown",
   "metadata": {},
   "source": [
    "# Dictionary"
   ]
  },
  {
   "cell_type": "code",
   "execution_count": null,
   "metadata": {},
   "outputs": [],
   "source": []
  }
 ],
 "metadata": {
  "kernelspec": {
   "display_name": "Python 3",
   "language": "python",
   "name": "python3"
  },
  "language_info": {
   "codemirror_mode": {
    "name": "ipython",
    "version": 3
   },
   "file_extension": ".py",
   "mimetype": "text/x-python",
   "name": "python",
   "nbconvert_exporter": "python",
   "pygments_lexer": "ipython3",
   "version": "3.7.4"
  }
 },
 "nbformat": 4,
 "nbformat_minor": 2
}
