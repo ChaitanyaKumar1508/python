{
 "cells": [
  {
   "cell_type": "markdown",
   "metadata": {},
   "source": [
    "## Properties of String\n",
    "\n",
    "- Strings are immutable, this makes it hashable and hence faster searching and retrieval operations\n",
    "- Strings supports indexing, like [0 to n-1] just like lists (from Left to Right)\n",
    "- Strings supports reverse indexing as well, [-n to -1] (from Left to Right)\n",
    "- Strings also supports Slicing\n"
   ]
  },
  {
   "cell_type": "markdown",
   "metadata": {},
   "source": [
    "### User Input"
   ]
  },
  {
   "cell_type": "markdown",
   "metadata": {},
   "source": [
    "- User input is always taken as String, or if we read a file - its read as String in python"
   ]
  },
  {
   "cell_type": "code",
   "execution_count": 1,
   "metadata": {},
   "outputs": [
    {
     "name": "stdout",
     "output_type": "stream",
     "text": [
      "Enter the name : Chaitanya\n",
      "Hello Chaitanya\n",
      "<class 'str'>\n"
     ]
    }
   ],
   "source": [
    "# Take name as user input \n",
    "\n",
    "name = input(\"Enter the name : \")\n",
    "print(\"Hello\",name)\n",
    "print(type(name))"
   ]
  },
  {
   "cell_type": "code",
   "execution_count": 2,
   "metadata": {},
   "outputs": [
    {
     "name": "stdout",
     "output_type": "stream",
     "text": [
      "HelloWorld\n",
      "Hello World\n"
     ]
    }
   ],
   "source": [
    "# String concatenation \n",
    "\n",
    "st1 = \"Hello\"\n",
    "st2 = \"World\"\n",
    "st1 = st1+st2\n",
    "print(st1)\n",
    "print(\"Hello\"\" World\") # print fucntion automatically concatenates the string"
   ]
  },
  {
   "cell_type": "code",
   "execution_count": null,
   "metadata": {},
   "outputs": [],
   "source": []
  },
  {
   "cell_type": "markdown",
   "metadata": {},
   "source": [
    "### String Functions"
   ]
  },
  {
   "cell_type": "markdown",
   "metadata": {},
   "source": [
    "- Exploring various string fucntions"
   ]
  },
  {
   "cell_type": "code",
   "execution_count": 3,
   "metadata": {},
   "outputs": [
    {
     "name": "stdout",
     "output_type": "stream",
     "text": [
      "Test\n"
     ]
    }
   ],
   "source": [
    "# Function to make the first letter of the string CAPITAL\n",
    "\n",
    "t1 = \"test\"\n",
    "print(t1.capitalize())"
   ]
  },
  {
   "cell_type": "code",
   "execution_count": 4,
   "metadata": {},
   "outputs": [
    {
     "name": "stdout",
     "output_type": "stream",
     "text": [
      "TEST\n"
     ]
    }
   ],
   "source": [
    "# Fuction to convert all the letters of a string to UPPER case \n",
    "\n",
    "t1 = \"test\"\n",
    "print(t1.upper())"
   ]
  },
  {
   "cell_type": "code",
   "execution_count": 5,
   "metadata": {},
   "outputs": [
    {
     "name": "stdout",
     "output_type": "stream",
     "text": [
      "test\n"
     ]
    }
   ],
   "source": [
    "# Function to convert all the letters of a string to LOWER case\n",
    "\n",
    "t1 = \"TEST\"\n",
    "print(t1.lower())"
   ]
  },
  {
   "cell_type": "code",
   "execution_count": 6,
   "metadata": {},
   "outputs": [
    {
     "name": "stdout",
     "output_type": "stream",
     "text": [
      "TEST\n"
     ]
    }
   ],
   "source": [
    "# Fucntion to strip the string with all the leading and trialing Spaces\n",
    "\n",
    "t1 = \"    TEST   \"\n",
    "print(t1.strip())"
   ]
  },
  {
   "cell_type": "code",
   "execution_count": 7,
   "metadata": {},
   "outputs": [
    {
     "name": "stdout",
     "output_type": "stream",
     "text": [
      "TEST   \n"
     ]
    }
   ],
   "source": [
    "# Function to strip the string with all the trailing Spaces\n",
    "\n",
    "t1 = \"    TEST   \"\n",
    "print(t1.lstrip())"
   ]
  },
  {
   "cell_type": "code",
   "execution_count": 8,
   "metadata": {},
   "outputs": [
    {
     "name": "stdout",
     "output_type": "stream",
     "text": [
      "    TEST\n"
     ]
    }
   ],
   "source": [
    "# Function to strip the string with all the leading Spaces\n",
    "\n",
    "t1 = \"    TEST   \"\n",
    "print(t1.rstrip())"
   ]
  },
  {
   "cell_type": "code",
   "execution_count": 9,
   "metadata": {},
   "outputs": [
    {
     "name": "stdout",
     "output_type": "stream",
     "text": [
      "['To', 'ay is the new worl', ' an', ' to', 'ay seeems bringht']\n"
     ]
    }
   ],
   "source": [
    "# Function to split the string wrt to a particular character - default is \"space\"\n",
    "\n",
    "t1 = \"Today is the new world and today seeems bringht\"\n",
    "s = t1.split(\"d\")\n",
    "print(s)"
   ]
  },
  {
   "cell_type": "code",
   "execution_count": 10,
   "metadata": {},
   "outputs": [
    {
     "name": "stdout",
     "output_type": "stream",
     "text": [
      "True\n"
     ]
    }
   ],
   "source": [
    "# Function to find if a word exists in a given String\n",
    "\n",
    "t1 = \"Today is the new world and today seeems bringht\"\n",
    "print(\"world\" in t1)"
   ]
  },
  {
   "cell_type": "code",
   "execution_count": 11,
   "metadata": {},
   "outputs": [
    {
     "name": "stdout",
     "output_type": "stream",
     "text": [
      "False\n"
     ]
    }
   ],
   "source": [
    "# Function to find if a String starts or ends with a particular word or not\n",
    "\n",
    "t1 = \"Today is the new world and today seeems bringht\"\n",
    "print(t1.endswith(\"Today\"))"
   ]
  },
  {
   "cell_type": "code",
   "execution_count": null,
   "metadata": {},
   "outputs": [],
   "source": []
  },
  {
   "cell_type": "markdown",
   "metadata": {},
   "source": [
    "### String encryption"
   ]
  },
  {
   "cell_type": "markdown",
   "metadata": {},
   "source": [
    "- there is a function to ENCRYPT the strings "
   ]
  },
  {
   "cell_type": "code",
   "execution_count": 12,
   "metadata": {},
   "outputs": [
    {
     "name": "stdout",
     "output_type": "stream",
     "text": [
      "{97: 49, 101: 50, 105: 51, 111: 52, 117: 53}\n",
      "t4d1y 3s B215t3f5lD1y\n"
     ]
    }
   ],
   "source": [
    "# string Encryption : chars to random ints or other chars or symbols\n",
    "\n",
    "input = \"aeiou\"\n",
    "output = \"12345\"\n",
    "str = \"today is BeautifulDay\"\n",
    "trans = str.maketrans(input,output)\n",
    "print(trans)\n",
    "print(str.translate(trans))"
   ]
  },
  {
   "cell_type": "code",
   "execution_count": null,
   "metadata": {},
   "outputs": [],
   "source": []
  },
  {
   "cell_type": "markdown",
   "metadata": {},
   "source": [
    "### Other miscellaneous functions"
   ]
  },
  {
   "cell_type": "code",
   "execution_count": 13,
   "metadata": {},
   "outputs": [
    {
     "name": "stdout",
     "output_type": "stream",
     "text": [
      "u\n",
      "a\n"
     ]
    }
   ],
   "source": [
    "# Get the max or min in a string based on ASCII coding\n",
    "\n",
    "input = \"aeiou\"\n",
    "print(max(input))\n",
    "print(min(input))"
   ]
  },
  {
   "cell_type": "code",
   "execution_count": 14,
   "metadata": {},
   "outputs": [
    {
     "name": "stdout",
     "output_type": "stream",
     "text": [
      "Tomorrow is the new world and Today seeems bright\n"
     ]
    }
   ],
   "source": [
    "# Replace a word with another word in a string, and number of occurence\n",
    "\n",
    "t1 = \"Today is the new world and Today seeems bright\"\n",
    "s = t1.replace(\"Today\",\"Tomorrow\",1)\n",
    "print(s)"
   ]
  },
  {
   "cell_type": "code",
   "execution_count": 15,
   "metadata": {},
   "outputs": [
    {
     "name": "stdout",
     "output_type": "stream",
     "text": [
      "tODAY IS THE NEW WORLD AND tODAY SEEEMS BRIGHT\n"
     ]
    }
   ],
   "source": [
    "# Swap the upper case with lower case\n",
    "\n",
    "t1 = \"Today is the new world and Today seeems bright\"\n",
    "print(t1.swapcase())"
   ]
  },
  {
   "cell_type": "code",
   "execution_count": 16,
   "metadata": {},
   "outputs": [
    {
     "name": "stdout",
     "output_type": "stream",
     "text": [
      "2\n",
      "5\n"
     ]
    }
   ],
   "source": [
    "# NOTE whats happening here :-) \n",
    "\n",
    "t1 = \"This is a good example\"\n",
    "print(t1.find(\"is\"))\n",
    "print(t1.rfind(\"is\"))"
   ]
  },
  {
   "cell_type": "code",
   "execution_count": 17,
   "metadata": {},
   "outputs": [
    {
     "name": "stdout",
     "output_type": "stream",
     "text": [
      "True\n",
      "True\n"
     ]
    }
   ],
   "source": [
    "# Check whether the given string is UPPER or NOT, similarly for LOWER\n",
    "\n",
    "t1 = \"CHAITANYA\"\n",
    "print(t1.isupper())\n",
    "\n",
    "t2 = \"chaitanya\"\n",
    "print(t2.islower())"
   ]
  },
  {
   "cell_type": "code",
   "execution_count": 18,
   "metadata": {},
   "outputs": [
    {
     "name": "stdout",
     "output_type": "stream",
     "text": [
      "False\n",
      "True\n",
      "True\n"
     ]
    }
   ],
   "source": [
    "# Check whether the string is ALPHANUMERIC or not - observe the results\n",
    "\n",
    "t1 = \"500 newnote\"\n",
    "print(t1.isalnum())\n",
    "\n",
    "t2 = \"500\"\n",
    "print(t2.isalnum())\n",
    "\n",
    "t3 = \"100st\"\n",
    "print(t3.isalnum())"
   ]
  },
  {
   "cell_type": "code",
   "execution_count": 19,
   "metadata": {},
   "outputs": [
    {
     "name": "stdout",
     "output_type": "stream",
     "text": [
      "True\n"
     ]
    }
   ],
   "source": [
    "# To find if the string is all DIGIT/number\n",
    "\n",
    "t1 = \"500\"\n",
    "print(t1.isdigit())"
   ]
  },
  {
   "cell_type": "code",
   "execution_count": 20,
   "metadata": {},
   "outputs": [
    {
     "name": "stdout",
     "output_type": "stream",
     "text": [
      "False\n",
      "True\n"
     ]
    }
   ],
   "source": [
    "# Find if the string is a TITLE, i.e. all the words starts with Capital letters\n",
    "\n",
    "t1 = \"This is a good example\"\n",
    "print(t1.istitle())\n",
    "\n",
    "t2 = \"This Is Perfect\"\n",
    "print(t2.istitle())"
   ]
  },
  {
   "cell_type": "code",
   "execution_count": null,
   "metadata": {},
   "outputs": [],
   "source": []
  },
  {
   "cell_type": "markdown",
   "metadata": {},
   "source": [
    "### Joining multiple strings "
   ]
  },
  {
   "cell_type": "code",
   "execution_count": 21,
   "metadata": {},
   "outputs": [
    {
     "name": "stdout",
     "output_type": "stream",
     "text": [
      "Today-is-the-new-world\n"
     ]
    }
   ],
   "source": [
    "str1 = \"Today is the new world\"\n",
    "l1 = str1.replace(\" \",\"-\")\n",
    "print(l1)"
   ]
  },
  {
   "cell_type": "code",
   "execution_count": 22,
   "metadata": {},
   "outputs": [
    {
     "name": "stdout",
     "output_type": "stream",
     "text": [
      "['Today', 'is', 'the', 'new', 'world']\n",
      "Today-is-the-new-world\n"
     ]
    }
   ],
   "source": [
    "str1 = \"Today is the new world\"\n",
    "l1 = str1.split()\n",
    "print(l1)\n",
    "s2 = \"-\".join(l1)\n",
    "print(s2)"
   ]
  },
  {
   "cell_type": "code",
   "execution_count": null,
   "metadata": {},
   "outputs": [],
   "source": []
  },
  {
   "cell_type": "code",
   "execution_count": null,
   "metadata": {},
   "outputs": [],
   "source": []
  },
  {
   "cell_type": "markdown",
   "metadata": {},
   "source": [
    "# Exercise"
   ]
  },
  {
   "cell_type": "markdown",
   "metadata": {},
   "source": [
    "- String EVALUATION\n"
   ]
  },
  {
   "cell_type": "code",
   "execution_count": null,
   "metadata": {},
   "outputs": [],
   "source": [
    "# Evaluate the string \n",
    "\n",
    "Input evaluation : \"Chaitnaya has 500 rupees and he has 1Plus\"\n",
    "\n",
    "Output: \n",
    "    \n",
    "    Alpabet = True \n",
    "    Alphanumberic = True \n",
    "    digit - True \n",
    "    Lower = True \n",
    "    Capital Letter = True "
   ]
  },
  {
   "cell_type": "code",
   "execution_count": null,
   "metadata": {},
   "outputs": [],
   "source": []
  },
  {
   "cell_type": "markdown",
   "metadata": {},
   "source": [
    "### Solution"
   ]
  },
  {
   "cell_type": "code",
   "execution_count": 23,
   "metadata": {},
   "outputs": [
    {
     "name": "stdout",
     "output_type": "stream",
     "text": [
      "Alpabet =  True\n",
      "Alphanumberic =  True\n",
      "digit =  True\n",
      "Lower =  True\n",
      "Capital Letter =  True\n"
     ]
    }
   ],
   "source": [
    "input_string = \"Chaitanya has 500 rupees and he has 1Plus\"\n",
    "\n",
    "sentence = input_string.split()\n",
    "alpha = False\n",
    "alphanumeric = False\n",
    "digit = False\n",
    "lower = False\n",
    "containsCapital = False\n",
    "\n",
    "for word in sentence:\n",
    "    if word.isalnum() and alpha == False:\n",
    "        alpha = True\n",
    "    elif word.isalnum() and alphanumeric == False:\n",
    "        alphanumeric = True\n",
    "    elif word.isnumeric() and digit == False:\n",
    "        digit = True\n",
    "    elif word.islower() and lower == False:\n",
    "        lower = True\n",
    "    elif word.istitle() and containsCapital == False:\n",
    "        containsCapital = True\n",
    "    else:\n",
    "        pass\n",
    "\n",
    "print(\"Alpabet = \", alpha)\n",
    "print(\"Alphanumberic = \", alphanumeric)\n",
    "print(\"digit = \", digit)\n",
    "print(\"Lower = \", lower)\n",
    "print(\"Capital Letter = \", containsCapital)"
   ]
  },
  {
   "cell_type": "code",
   "execution_count": null,
   "metadata": {},
   "outputs": [],
   "source": []
  }
 ],
 "metadata": {
  "kernelspec": {
   "display_name": "Python 3",
   "language": "python",
   "name": "python3"
  },
  "language_info": {
   "codemirror_mode": {
    "name": "ipython",
    "version": 3
   },
   "file_extension": ".py",
   "mimetype": "text/x-python",
   "name": "python",
   "nbconvert_exporter": "python",
   "pygments_lexer": "ipython3",
   "version": "3.7.4"
  }
 },
 "nbformat": 4,
 "nbformat_minor": 2
}
